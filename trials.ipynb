{
 "cells": [
  {
   "cell_type": "code",
   "execution_count": 1,
   "metadata": {},
   "outputs": [],
   "source": [
    "from functions import create_question, global_ranking, user_stats\n",
    "from pymongo import MongoClient\n",
    "import pandas as pd"
   ]
  },
  {
   "cell_type": "code",
   "execution_count": 2,
   "metadata": {},
   "outputs": [
    {
     "data": {
      "text/plain": [
       "{'question': 'Napoleon Bonaparte was crowned Emperor of the French in the year 1804.',\n",
       " 'answer': True,\n",
       " 'category': 'History',\n",
       " 'topic': 'Famous leaders and emperors'}"
      ]
     },
     "execution_count": 2,
     "metadata": {},
     "output_type": "execute_result"
    }
   ],
   "source": [
    "create_question()"
   ]
  },
  {
   "cell_type": "code",
   "execution_count": 4,
   "metadata": {},
   "outputs": [
    {
     "data": {
      "text/html": [
       "<div>\n",
       "<style scoped>\n",
       "    .dataframe tbody tr th:only-of-type {\n",
       "        vertical-align: middle;\n",
       "    }\n",
       "\n",
       "    .dataframe tbody tr th {\n",
       "        vertical-align: top;\n",
       "    }\n",
       "\n",
       "    .dataframe thead th {\n",
       "        text-align: right;\n",
       "    }\n",
       "</style>\n",
       "<table border=\"1\" class=\"dataframe\">\n",
       "  <thead>\n",
       "    <tr style=\"text-align: right;\">\n",
       "      <th></th>\n",
       "      <th>Username</th>\n",
       "      <th>Questions Taken</th>\n",
       "      <th>Percentage Correct</th>\n",
       "    </tr>\n",
       "  </thead>\n",
       "  <tbody>\n",
       "    <tr>\n",
       "      <th>1</th>\n",
       "      <td>admin</td>\n",
       "      <td>33</td>\n",
       "      <td>60.606061</td>\n",
       "    </tr>\n",
       "  </tbody>\n",
       "</table>\n",
       "</div>"
      ],
      "text/plain": [
       "  Username  Questions Taken  Percentage Correct\n",
       "1    admin               33           60.606061"
      ]
     },
     "execution_count": 4,
     "metadata": {},
     "output_type": "execute_result"
    }
   ],
   "source": [
    "global_ranking()"
   ]
  },
  {
   "cell_type": "code",
   "execution_count": null,
   "metadata": {},
   "outputs": [],
   "source": []
  },
  {
   "cell_type": "code",
   "execution_count": 18,
   "metadata": {},
   "outputs": [
    {
     "name": "stderr",
     "output_type": "stream",
     "text": [
      "C:\\Users\\marcf\\AppData\\Local\\Temp\\ipykernel_14660\\3899702895.py:5: RuntimeWarning: invalid value encountered in scalar divide\n",
      "  jaison = {'Art':[df['Art_correct'].values[0]/df['Art_total'].values[0], int(df['Art_total'].values[0])],\n",
      "C:\\Users\\marcf\\AppData\\Local\\Temp\\ipykernel_14660\\3899702895.py:6: RuntimeWarning: invalid value encountered in scalar divide\n",
      "  'Geography':[df['Geography_correct'].values[0]/df['Geography_total'].values[0], int(df['Geography_total'].values[0])],\n",
      "C:\\Users\\marcf\\AppData\\Local\\Temp\\ipykernel_14660\\3899702895.py:7: RuntimeWarning: invalid value encountered in scalar divide\n",
      "  'History':[df['History_correct'].values[0]/df['History_total'].values[0], int(df['History_total'].values[0])],\n",
      "C:\\Users\\marcf\\AppData\\Local\\Temp\\ipykernel_14660\\3899702895.py:8: RuntimeWarning: invalid value encountered in scalar divide\n",
      "  'Sports':[df['Sports_correct'].values[0]/df['Sports_total'].values[0], int(df['Sports_total'].values[0])],\n",
      "C:\\Users\\marcf\\AppData\\Local\\Temp\\ipykernel_14660\\3899702895.py:9: RuntimeWarning: invalid value encountered in scalar divide\n",
      "  'Music':[df['Music_correct'].values[0]/df['Music_total'].values[0], int(df['Music_total'].values[0])],\n",
      "C:\\Users\\marcf\\AppData\\Local\\Temp\\ipykernel_14660\\3899702895.py:10: RuntimeWarning: invalid value encountered in scalar divide\n",
      "  'Entertainment':[df['Entertainment_correct'].values[0]/df['Entertainment_total'].values[0], int(df['Entertainment_total'].values[0])],\n",
      "C:\\Users\\marcf\\AppData\\Local\\Temp\\ipykernel_14660\\3899702895.py:11: RuntimeWarning: invalid value encountered in scalar divide\n",
      "  'Literature':[df['Literature_correct'].values[0]/df['Literature_total'].values[0], int(df['Literature_total'].values[0])],\n",
      "C:\\Users\\marcf\\AppData\\Local\\Temp\\ipykernel_14660\\3899702895.py:12: RuntimeWarning: invalid value encountered in scalar divide\n",
      "  'Science':[df['Science_correct'].values[0]/df['Science_total'].values[0], int(df['Science_total'].values[0])]\n"
     ]
    }
   ],
   "source": [
    "data = list(users_collection.find())\n",
    "df = pd.DataFrame(data)\n",
    "df = df[df['username']=='admin1']\n",
    "\n",
    "jaison = {'Art':[df['Art_correct'].values[0]/df['Art_total'].values[0], int(df['Art_total'].values[0])],\n",
    "            'Geography':[df['Geography_correct'].values[0]/df['Geography_total'].values[0], int(df['Geography_total'].values[0])],\n",
    "            'History':[df['History_correct'].values[0]/df['History_total'].values[0], int(df['History_total'].values[0])],\n",
    "            'Sports':[df['Sports_correct'].values[0]/df['Sports_total'].values[0], int(df['Sports_total'].values[0])],\n",
    "            'Music':[df['Music_correct'].values[0]/df['Music_total'].values[0], int(df['Music_total'].values[0])],\n",
    "            'Entertainment':[df['Entertainment_correct'].values[0]/df['Entertainment_total'].values[0], int(df['Entertainment_total'].values[0])],\n",
    "            'Literature':[df['Literature_correct'].values[0]/df['Literature_total'].values[0], int(df['Literature_total'].values[0])],\n",
    "            'Science':[df['Science_correct'].values[0]/df['Science_total'].values[0], int(df['Science_total'].values[0])]\n",
    "            }"
   ]
  },
  {
   "cell_type": "code",
   "execution_count": 19,
   "metadata": {},
   "outputs": [
    {
     "data": {
      "text/plain": [
       "{'Art': [nan, 0],\n",
       " 'Geography': [nan, 0],\n",
       " 'History': [nan, 0],\n",
       " 'Sports': [nan, 0],\n",
       " 'Music': [nan, 0],\n",
       " 'Entertainment': [nan, 0],\n",
       " 'Literature': [nan, 0],\n",
       " 'Science': [nan, 0]}"
      ]
     },
     "execution_count": 19,
     "metadata": {},
     "output_type": "execute_result"
    }
   ],
   "source": [
    "jaison"
   ]
  },
  {
   "cell_type": "code",
   "execution_count": 8,
   "metadata": {},
   "outputs": [
    {
     "data": {
      "text/plain": [
       "{'Art': [0.8, 5],\n",
       " 'Geography': [0.5, 6],\n",
       " 'History': [0.5, 4],\n",
       " 'Sports': [0.25, 4],\n",
       " 'Music': [0.5, 4],\n",
       " 'Entertainment': [0.5, 4],\n",
       " 'Literature': [1.0, 5],\n",
       " 'Science': [1.0, 1]}"
      ]
     },
     "execution_count": 8,
     "metadata": {},
     "output_type": "execute_result"
    }
   ],
   "source": [
    "user_stats('admin')"
   ]
  }
 ],
 "metadata": {
  "kernelspec": {
   "display_name": "streamlit",
   "language": "python",
   "name": "python3"
  },
  "language_info": {
   "codemirror_mode": {
    "name": "ipython",
    "version": 3
   },
   "file_extension": ".py",
   "mimetype": "text/x-python",
   "name": "python",
   "nbconvert_exporter": "python",
   "pygments_lexer": "ipython3",
   "version": "3.11.5"
  }
 },
 "nbformat": 4,
 "nbformat_minor": 2
}
